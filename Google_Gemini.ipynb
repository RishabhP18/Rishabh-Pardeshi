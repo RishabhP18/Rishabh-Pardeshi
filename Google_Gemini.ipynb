{
  "nbformat": 4,
  "nbformat_minor": 0,
  "metadata": {
    "colab": {
      "provenance": []
    },
    "kernelspec": {
      "name": "python3",
      "display_name": "Python 3"
    },
    "language_info": {
      "name": "python"
    }
  },
  "cells": [
    {
      "cell_type": "code",
      "execution_count": null,
      "metadata": {
        "colab": {
          "base_uri": "https://localhost:8080/"
        },
        "id": "mWMou-rKVHyS",
        "outputId": "68b6b763-313b-414c-fd5a-c15e70f4a223"
      },
      "outputs": [
        {
          "output_type": "stream",
          "name": "stdout",
          "text": [
            "\u001b[33mWARNING: Skipping serpapi as it is not installed.\u001b[0m\u001b[33m\n",
            "\u001b[0m"
          ]
        }
      ],
      "source": [
        "!pip uninstall -y serpapi -q\n",
        "!pip install -q google-search-results google-generativeai\n",
        "\n",
        "\n",
        "import google.generativeai as genai\n",
        "from serpapi import GoogleSearch\n",
        "\n",
        "\n",
        "GOOGLE_API_KEY = \"YOUR_GOOGLE_GEMINI_API_KEY\"\n",
        "SERPAPI_API_KEY = \"YOUR_SERPAPI_API_KEY\"\n",
        "\n",
        "\n",
        "genai.configure(api_key=GOOGLE_API_KEY)\n",
        "model = genai.GenerativeModel(\"gemini-1.5-pro\")\n",
        "\n",
        "\n",
        "conversation_history = []\n",
        "\n",
        "\n",
        "def chat_with_gemini(user_input):\n",
        "    conversation_history.append({\"role\": \"user\", \"parts\": [user_input]})\n",
        "    response = model.generate_content(conversation_history)\n",
        "    conversation_history.append({\"role\": \"model\", \"parts\": [response.text]})\n",
        "    return response.text\n",
        "\n",
        "\n",
        "def search_google(query):\n",
        "    params = {\n",
        "        \"engine\": \"google\",\n",
        "        \"q\": query,\n",
        "        \"api_key\": SERPAPI_API_KEY,\n",
        "    }\n",
        "\n",
        "    search = GoogleSearch(params)\n",
        "    result = search.get_dict()\n",
        "\n",
        "    if \"answer_box\" in result:\n",
        "        box = result[\"answer_box\"]\n",
        "        if \"answer\" in box:\n",
        "            return box[\"answer\"]\n",
        "        elif \"snippet\" in box:\n",
        "            return box[\"snippet\"]\n",
        "\n",
        "    if \"organic_results\" in result and len(result[\"organic_results\"]) > 0:\n",
        "        return result[\"organic_results\"][0].get(\"snippet\", \"No snippet found.\")\n",
        "\n",
        "    return \"No relevant data found.\"\n",
        "\n",
        "\n",
        "def handle_query(user_input):\n",
        "    real_time_keywords = [\"price\", \"weather\", \"time\", \"today\", \"now\", \"news\"]\n",
        "\n",
        "    if any(keyword in user_input.lower() for keyword in real_time_keywords):\n",
        "        real_time_response = search_google(user_input)\n",
        "        return f\"📡 Real-Time Info: {real_time_response}\"\n",
        "    else:\n",
        "        return chat_with_gemini(user_input)\n",
        "\n",
        "\n",
        "def interactive_chat():\n",
        "    print(\"🤖 Gemini AI Assistant with Real-Time Web Search\")\n",
        "    print(\"Type 'exit' to quit.\\n\")\n",
        "    while True:\n",
        "        user_input = input(\"You: \")\n",
        "        if user_input.lower() == \"exit\":\n",
        "            break\n",
        "        response = handle_query(user_input)\n",
        "        print(f\"Gemini: {response}\\n\")\n",
        "\n",
        "# To run it in notebooks or scripts:\n",
        "# interactive_chat()\n"
      ]
    },
    {
      "cell_type": "code",
      "source": [],
      "metadata": {
        "id": "2Q12zD_WVJ4T"
      },
      "execution_count": null,
      "outputs": []
    }
  ]
}